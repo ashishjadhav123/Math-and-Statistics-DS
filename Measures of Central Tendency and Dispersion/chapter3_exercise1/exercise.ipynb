{
 "cells": [
  {
   "cell_type": "markdown",
   "metadata": {},
   "source": [
    "# Telecom Customer Churn Case Study"
   ]
  },
  {
   "cell_type": "markdown",
   "metadata": {},
   "source": [
    "You have been provided with a dataset related to telecom customer churn. Each row in the dataset represents a unique customer, and the columns contain various attributes and information about these customers.\n",
    "\n",
    "The data set includes information about:\n",
    "- Churn Column: Indicates customer churn within the last month.\n",
    "- Services Info: Subscribed services like phone, internet, etc.\n",
    "- Account Details: Tenure, contract, billing, charges.\n",
    "- Demographics: Gender, age, and family status.\n"
   ]
  },
  {
   "cell_type": "markdown",
   "metadata": {},
   "source": [
    "## Load the dataset in a dataframe"
   ]
  },
  {
   "cell_type": "code",
   "execution_count": 1,
   "metadata": {},
   "outputs": [],
   "source": [
    "#import necessary libraries\n",
    "import pandas as pd\n",
    "import numpy as np\n",
    "import matplotlib.pyplot as plt\n",
    "import seaborn as sns\n"
   ]
  },
  {
   "cell_type": "code",
   "execution_count": 2,
   "metadata": {},
   "outputs": [
    {
     "name": "stdout",
     "output_type": "stream",
     "text": [
      "Number of rows and coumns: (7043, 21)\n",
      "  customer_id  gender  senior_citizen partner dependents  tenure  \\\n",
      "0  7590-VHVEG  Female               0     Yes         No       1   \n",
      "1  5575-GNVDE    Male               0      No         No      34   \n",
      "2  3668-QPYBK    Male               0      No         No       2   \n",
      "3  7795-CFOCW    Male               0      No         No      45   \n",
      "4  9237-HQITU  Female               0      No         No       2   \n",
      "\n",
      "  phone_service    multiple_lines internet_service online_security  \\\n",
      "0            No  No phone service              DSL              No   \n",
      "1           Yes                No              DSL             Yes   \n",
      "2           Yes                No              DSL             Yes   \n",
      "3            No  No phone service              DSL             Yes   \n",
      "4           Yes                No      Fiber optic              No   \n",
      "\n",
      "  online_backup device_protection tech_support streaming_tv streaming_movies  \\\n",
      "0           Yes                No           No           No               No   \n",
      "1            No               Yes           No           No               No   \n",
      "2           Yes                No           No           No               No   \n",
      "3            No               Yes          Yes           No               No   \n",
      "4            No                No           No           No               No   \n",
      "\n",
      "         contract paperless_billing             payment_method  \\\n",
      "0  Month-to-month               Yes           Electronic check   \n",
      "1        One year                No               Mailed check   \n",
      "2  Month-to-month               Yes               Mailed check   \n",
      "3        One year                No  Bank transfer (automatic)   \n",
      "4  Month-to-month               Yes           Electronic check   \n",
      "\n",
      "   monthly_charges total_charges churn  \n",
      "0            29.85         29.85    No  \n",
      "1            56.95        1889.5    No  \n",
      "2            53.85        108.15   Yes  \n",
      "3            42.30       1840.75    No  \n",
      "4            70.70        151.65   Yes  \n"
     ]
    }
   ],
   "source": [
    "#1. import the provided dataset to dataframe (telecom_customer_churn.csv)\n",
    "#2. change the settings to display all the columns\n",
    "#3. check the number of rows and columns\n",
    "#4. check the top 5 rows\n",
    "df_input = pd.read_csv('telecom_customer_churn.csv')\n",
    "pd.set_option('display.max_columns', None)\n",
    "print(\"Number of rows and coumns:\", df_input.shape)\n",
    "print(df_input.head())\n"
   ]
  },
  {
   "cell_type": "code",
   "execution_count": 3,
   "metadata": {},
   "outputs": [
    {
     "data": {
      "text/plain": [
       "Index(['customer_id', 'gender', 'senior_citizen', 'partner', 'dependents',\n",
       "       'tenure', 'phone_service', 'multiple_lines', 'internet_service',\n",
       "       'online_security', 'online_backup', 'device_protection', 'tech_support',\n",
       "       'streaming_tv', 'streaming_movies', 'contract', 'paperless_billing',\n",
       "       'payment_method', 'monthly_charges', 'total_charges', 'churn'],\n",
       "      dtype='object')"
      ]
     },
     "execution_count": 3,
     "metadata": {},
     "output_type": "execute_result"
    }
   ],
   "source": [
    "#display all the column names\n",
    "\n",
    "df_input.columns"
   ]
  },
  {
   "cell_type": "code",
   "execution_count": 4,
   "metadata": {},
   "outputs": [
    {
     "data": {
      "text/plain": [
       "customer_id          0\n",
       "gender               0\n",
       "senior_citizen       0\n",
       "partner              0\n",
       "dependents           0\n",
       "tenure               0\n",
       "phone_service        0\n",
       "multiple_lines       0\n",
       "internet_service     0\n",
       "online_security      0\n",
       "online_backup        0\n",
       "device_protection    0\n",
       "tech_support         0\n",
       "streaming_tv         0\n",
       "streaming_movies     0\n",
       "contract             0\n",
       "paperless_billing    0\n",
       "payment_method       0\n",
       "monthly_charges      0\n",
       "total_charges        0\n",
       "churn                0\n",
       "dtype: int64"
      ]
     },
     "execution_count": 4,
     "metadata": {},
     "output_type": "execute_result"
    }
   ],
   "source": [
    "# Check if the dataset contains nulls\n",
    "df_input.isnull().sum()"
   ]
  },
  {
   "cell_type": "code",
   "execution_count": 5,
   "metadata": {},
   "outputs": [
    {
     "data": {
      "text/plain": [
       "customer_id           object\n",
       "gender                object\n",
       "senior_citizen         int64\n",
       "partner               object\n",
       "dependents            object\n",
       "tenure                 int64\n",
       "phone_service         object\n",
       "multiple_lines        object\n",
       "internet_service      object\n",
       "online_security       object\n",
       "online_backup         object\n",
       "device_protection     object\n",
       "tech_support          object\n",
       "streaming_tv          object\n",
       "streaming_movies      object\n",
       "contract              object\n",
       "paperless_billing     object\n",
       "payment_method        object\n",
       "monthly_charges      float64\n",
       "total_charges         object\n",
       "churn                 object\n",
       "dtype: object"
      ]
     },
     "execution_count": 5,
     "metadata": {},
     "output_type": "execute_result"
    }
   ],
   "source": [
    "#check the datatype of all columns\n",
    "\n",
    "df_input.dtypes"
   ]
  },
  {
   "cell_type": "code",
   "execution_count": 6,
   "metadata": {},
   "outputs": [],
   "source": [
    "# Fix the datatype\n",
    "#convert the datatype of 'monthly_charges', 'total_charges', 'tenure' to numeric datatype (pd.to_numeric)\n",
    "\n",
    "df_input['monthly_charges'] = pd.to_numeric(df_input['monthly_charges'], errors='coerce')\n",
    "df_input['total_charges'] = pd.to_numeric(df_input['total_charges'], errors='coerce')\n",
    "df_input['tenure'] = pd.to_numeric(df_input['tenure'], errors='coerce')\n"
   ]
  },
  {
   "cell_type": "markdown",
   "metadata": {},
   "source": [
    "Q1 - Calculate the mean, median, and mode of the monthly_charges column"
   ]
  },
  {
   "cell_type": "code",
   "execution_count": 9,
   "metadata": {},
   "outputs": [
    {
     "name": "stdout",
     "output_type": "stream",
     "text": [
      "Mean: 64.76169246059918, Median: 70.35, Mode: 20.05\n"
     ]
    }
   ],
   "source": [
    "mean = df_input['monthly_charges'].mean()\n",
    "median = df_input['monthly_charges'].median()\n",
    "mode = df_input['monthly_charges'].mode()[0]\n",
    "print(f\"Mean: {mean}, Median: {median}, Mode: {mode}\")  "
   ]
  },
  {
   "cell_type": "markdown",
   "metadata": {},
   "source": [
    "Q2 - Calculate the 25th, 50th, and 75th percentiles of the total_charges column"
   ]
  },
  {
   "cell_type": "code",
   "execution_count": 10,
   "metadata": {},
   "outputs": [
    {
     "data": {
      "text/plain": [
       "(401.45, 1397.475, 3794.7375)"
      ]
     },
     "execution_count": 10,
     "metadata": {},
     "output_type": "execute_result"
    }
   ],
   "source": [
    "df_input['total_charges'].quantile(0.25), df_input['total_charges'].quantile(0.5), df_input['total_charges'].quantile(0.75)"
   ]
  },
  {
   "cell_type": "markdown",
   "metadata": {},
   "source": [
    "Q3 - Calculate the range of monthly_charges column?\n",
    "\n",
    "Hint - Range is the difference between max and min of monthly_charges."
   ]
  },
  {
   "cell_type": "code",
   "execution_count": 12,
   "metadata": {},
   "outputs": [
    {
     "data": {
      "text/plain": [
       "100.5"
      ]
     },
     "execution_count": 12,
     "metadata": {},
     "output_type": "execute_result"
    }
   ],
   "source": [
    "range_val = df_input['monthly_charges'].max() - df_input['monthly_charges'].min()\n",
    "range_val"
   ]
  },
  {
   "cell_type": "markdown",
   "metadata": {},
   "source": [
    "Q4 - What is the first quartile of the monthly_charges column for customers who have not churned?"
   ]
  },
  {
   "cell_type": "code",
   "execution_count": null,
   "metadata": {},
   "outputs": [
    {
     "name": "stdout",
     "output_type": "stream",
     "text": [
      "First Quartile for Non-Churn Customers: 25.1\n"
     ]
    },
    {
     "name": "stderr",
     "output_type": "stream",
     "text": [
      "C:\\Users\\jadha\\AppData\\Local\\Temp\\ipykernel_14832\\2320555563.py:1: FutureWarning: Series.__getitem__ treating keys as positions is deprecated. In a future version, integer keys will always be treated as labels (consistent with DataFrame behavior). To access a value by position, use `ser.iloc[pos]`\n",
      "  first_quartile = df_input.loc[df_input['churn'] == \"No\", ['monthly_charges']].quantile(0.25)[0]\n"
     ]
    }
   ],
   "source": [
    "first_quartile = df_input.loc[df_input['churn'] == \"No\", ['monthly_charges']].quantile(0.25)\n",
    "\n",
    "print(\"First Quartile for Non-Churn Customers:\", first_quartile)"
   ]
  },
  {
   "cell_type": "markdown",
   "metadata": {},
   "source": [
    "Q5 - What is the third quartile of the total_charges column for customers who have churned?"
   ]
  },
  {
   "cell_type": "code",
   "execution_count": 16,
   "metadata": {},
   "outputs": [
    {
     "name": "stdout",
     "output_type": "stream",
     "text": [
      "Third Quartile for Churn Customers: total_charges    2331.3\n",
      "Name: 0.75, dtype: float64\n"
     ]
    }
   ],
   "source": [
    "third_quartile = df_input.loc[df_input['churn'] == \"Yes\", ['total_charges']].quantile(0.75)\n",
    "print(\"Third Quartile for Churn Customers:\", third_quartile)"
   ]
  },
  {
   "cell_type": "markdown",
   "metadata": {},
   "source": [
    "Q6-  What is the mode of the payment method column for customers who have churned?"
   ]
  },
  {
   "cell_type": "code",
   "execution_count": 20,
   "metadata": {},
   "outputs": [
    {
     "name": "stdout",
     "output_type": "stream",
     "text": [
      "Mode for Churn Customers: Electronic check\n"
     ]
    }
   ],
   "source": [
    "mode = df_input.loc[df_input['churn'] == \"Yes\", 'payment_method'].mode()[0]\n",
    "print(\"Mode for Churn Customers:\", mode)"
   ]
  },
  {
   "cell_type": "markdown",
   "metadata": {},
   "source": [
    "Q7 - What is the mean of the total charges column for customers who have churned and have a month-to-month contract?"
   ]
  },
  {
   "cell_type": "code",
   "execution_count": 8,
   "metadata": {},
   "outputs": [],
   "source": [
    "# Filter the rows based on the churn status and contract type\n",
    "\n",
    "\n",
    "# Calculate the mean of the total charges column\n",
    "\n",
    "\n",
    "# Print the result\n"
   ]
  },
  {
   "cell_type": "markdown",
   "metadata": {},
   "source": [
    "Q8 - What is the median of the tenure column for customers who have not churned and have a two-year contract?"
   ]
  },
  {
   "cell_type": "code",
   "execution_count": 9,
   "metadata": {},
   "outputs": [],
   "source": [
    "# Filter the rows based on the churn status and contract type\n",
    "\n",
    "\n",
    "# Calculate the median of the tenure column\n",
    "\n",
    "\n",
    "# Print the result\n"
   ]
  }
 ],
 "metadata": {
  "kernelspec": {
   "display_name": "base",
   "language": "python",
   "name": "python3"
  },
  "language_info": {
   "codemirror_mode": {
    "name": "ipython",
    "version": 3
   },
   "file_extension": ".py",
   "mimetype": "text/x-python",
   "name": "python",
   "nbconvert_exporter": "python",
   "pygments_lexer": "ipython3",
   "version": "3.12.7"
  }
 },
 "nbformat": 4,
 "nbformat_minor": 2
}
