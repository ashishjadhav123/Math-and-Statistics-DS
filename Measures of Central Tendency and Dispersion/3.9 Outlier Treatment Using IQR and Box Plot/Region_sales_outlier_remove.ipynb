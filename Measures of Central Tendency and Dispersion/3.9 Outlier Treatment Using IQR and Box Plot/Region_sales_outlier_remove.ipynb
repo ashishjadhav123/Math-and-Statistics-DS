{
 "cells": [
  {
   "cell_type": "code",
   "execution_count": 2,
   "id": "463bed80",
   "metadata": {},
   "outputs": [],
   "source": [
    "import pandas as pd\n",
    "import numpy as np\n",
    "import matplotlib.pyplot as plt\n",
    "import seaborn as sns"
   ]
  },
  {
   "cell_type": "code",
   "execution_count": 3,
   "id": "5a742044",
   "metadata": {},
   "outputs": [
    {
     "data": {
      "text/html": [
       "<div>\n",
       "<style scoped>\n",
       "    .dataframe tbody tr th:only-of-type {\n",
       "        vertical-align: middle;\n",
       "    }\n",
       "\n",
       "    .dataframe tbody tr th {\n",
       "        vertical-align: top;\n",
       "    }\n",
       "\n",
       "    .dataframe thead th {\n",
       "        text-align: right;\n",
       "    }\n",
       "</style>\n",
       "<table border=\"1\" class=\"dataframe\">\n",
       "  <thead>\n",
       "    <tr style=\"text-align: right;\">\n",
       "      <th></th>\n",
       "      <th>Month</th>\n",
       "      <th>Year</th>\n",
       "      <th>Region</th>\n",
       "      <th>Sales</th>\n",
       "    </tr>\n",
       "  </thead>\n",
       "  <tbody>\n",
       "    <tr>\n",
       "      <th>0</th>\n",
       "      <td>January</td>\n",
       "      <td>2022</td>\n",
       "      <td>APAC</td>\n",
       "      <td>36750</td>\n",
       "    </tr>\n",
       "    <tr>\n",
       "      <th>1</th>\n",
       "      <td>February</td>\n",
       "      <td>2022</td>\n",
       "      <td>APAC</td>\n",
       "      <td>36995</td>\n",
       "    </tr>\n",
       "    <tr>\n",
       "      <th>2</th>\n",
       "      <td>March</td>\n",
       "      <td>2022</td>\n",
       "      <td>APAC</td>\n",
       "      <td>18579</td>\n",
       "    </tr>\n",
       "    <tr>\n",
       "      <th>3</th>\n",
       "      <td>April</td>\n",
       "      <td>2022</td>\n",
       "      <td>APAC</td>\n",
       "      <td>37768</td>\n",
       "    </tr>\n",
       "    <tr>\n",
       "      <th>4</th>\n",
       "      <td>May</td>\n",
       "      <td>2022</td>\n",
       "      <td>APAC</td>\n",
       "      <td>23956</td>\n",
       "    </tr>\n",
       "  </tbody>\n",
       "</table>\n",
       "</div>"
      ],
      "text/plain": [
       "      Month  Year Region  Sales\n",
       "0   January  2022   APAC  36750\n",
       "1  February  2022   APAC  36995\n",
       "2     March  2022   APAC  18579\n",
       "3     April  2022   APAC  37768\n",
       "4       May  2022   APAC  23956"
      ]
     },
     "execution_count": 3,
     "metadata": {},
     "output_type": "execute_result"
    }
   ],
   "source": [
    "df_input = pd.read_excel('region_wise_sales.xlsx')\n",
    "df_input.head()"
   ]
  },
  {
   "cell_type": "code",
   "execution_count": 5,
   "id": "faa5f58a",
   "metadata": {},
   "outputs": [
    {
     "data": {
      "text/plain": [
       "array(['APAC', 'Europe', 'Americas'], dtype=object)"
      ]
     },
     "execution_count": 5,
     "metadata": {},
     "output_type": "execute_result"
    }
   ],
   "source": [
    "df_input['Region'].unique()"
   ]
  },
  {
   "cell_type": "code",
   "execution_count": 6,
   "id": "be7a279a",
   "metadata": {},
   "outputs": [],
   "source": [
    "apac= df_input.loc[df_input['Region'] == 'APAC']\n",
    "europe = df_input.loc[df_input['Region'] == 'Europe']\n",
    "america = df_input.loc[df_input['Region'] == 'America']"
   ]
  },
  {
   "cell_type": "code",
   "execution_count": 7,
   "id": "ed080571",
   "metadata": {},
   "outputs": [],
   "source": [
    "def remove_outlier(df):\n",
    "    Q1 = df['Sales'].quantile(0.25)\n",
    "    Q3  = df['Sales'].quantile(0.75)\n",
    "    IQR = Q3 - Q1\n",
    "    lower_bound = Q1 - 1.5 * IQR\n",
    "    upper_bound = Q3 + 1.5 * IQR\n",
    "    return lower_bound, upper_bound"
   ]
  },
  {
   "cell_type": "code",
   "execution_count": 8,
   "id": "acaab17e",
   "metadata": {},
   "outputs": [
    {
     "name": "stdout",
     "output_type": "stream",
     "text": [
      "APAC Sales Lower Bound: -737.125, Upper Bound: 59747.875\n",
      "Europe Sales Lower Bound: 7306.875, Upper Bound: 17665.875\n",
      "America Sales Lower Bound: nan, Upper Bound: nan\n"
     ]
    }
   ],
   "source": [
    "apac_lower, apac_upper = remove_outlier(apac)\n",
    "europe_lower, europe_upper = remove_outlier(europe)\n",
    "america_lower, america_upper = remove_outlier(america)\n",
    "print(f\"APAC Sales Lower Bound: {apac_lower}, Upper Bound: {apac_upper}\")\n",
    "print(f\"Europe Sales Lower Bound: {europe_lower}, Upper Bound: {europe_upper}\")\n",
    "print(f\"America Sales Lower Bound: {america_lower}, Upper Bound: {america_upper}\")"
   ]
  },
  {
   "cell_type": "code",
   "execution_count": 9,
   "id": "a8b99b69",
   "metadata": {},
   "outputs": [
    {
     "name": "stdout",
     "output_type": "stream",
     "text": [
      "Regions: ['APAC' 'Europe' 'Americas']\n"
     ]
    }
   ],
   "source": [
    "region_list = df_input['Region'].unique()\n",
    "print(\"Regions:\", region_list)"
   ]
  },
  {
   "cell_type": "code",
   "execution_count": 11,
   "id": "aca0edbe",
   "metadata": {},
   "outputs": [
    {
     "data": {
      "text/plain": [
       "[0     36750\n",
       " 1     36995\n",
       " 2     18579\n",
       " 3     37768\n",
       " 4     23956\n",
       " 5     38143\n",
       " 6     29132\n",
       " 7     21961\n",
       " 8     33299\n",
       " 9     37279\n",
       " 10    21388\n",
       " 11    21896\n",
       " Name: Sales, dtype: int64,\n",
       " 12     9665\n",
       " 13    10297\n",
       " 14    11079\n",
       " 15    13410\n",
       " 16    11229\n",
       " 17    15352\n",
       " 18    13286\n",
       " 19    11470\n",
       " 20    11873\n",
       " 21    23000\n",
       " 22    12215\n",
       " 23    14895\n",
       " Name: Sales, dtype: int64,\n",
       " 24    30247\n",
       " 25    29284\n",
       " 26    27904\n",
       " 27    23407\n",
       " 28    23716\n",
       " 29    25077\n",
       " 30    33649\n",
       " 31    24560\n",
       " 32    34102\n",
       " 33    28257\n",
       " 34    30691\n",
       " 35    29387\n",
       " Name: Sales, dtype: int64]"
      ]
     },
     "execution_count": 11,
     "metadata": {},
     "output_type": "execute_result"
    }
   ],
   "source": [
    "plot_data = [df_input[df_input['Region'] == region]['Sales'] for region in region_list]\n",
    "plot_data"
   ]
  },
  {
   "cell_type": "code",
   "execution_count": 17,
   "id": "2070244c",
   "metadata": {},
   "outputs": [
    {
     "data": {
      "image/png": "[encoded data removed]",
      "text/plain": [
       "<Figure size 640x480 with 1 Axes>"
      ]
     },
     "metadata": {},
     "output_type": "display_data"
    }
   ],
   "source": [
    "plt.Figure(figsize=(12, 6))\n",
    "plt.boxplot(plot_data, vert=True, patch_artist=True)\n",
    "plt.title('Sales Distribution by Region')\n",
    "plt.xlabel('Region')\n",
    "plt.ylabel('Sales')\n",
    "plt.xticks(ticks=range(1, len(region_list) + 1), labels=region_list, rotation=45)\n",
    "plt.xticks(rotation=45)\n",
    "plt.show()\n"
   ]
  },
  {
   "cell_type": "code",
   "execution_count": null,
   "id": "f4a0445b",
   "metadata": {},
   "outputs": [],
   "source": []
  }
 ],
 "metadata": {
  "kernelspec": {
   "display_name": "base",
   "language": "python",
   "name": "python3"
  },
  "language_info": {
   "codemirror_mode": {
    "name": "ipython",
    "version": 3
   },
   "file_extension": ".py",
   "mimetype": "text/x-python",
   "name": "python",
   "nbconvert_exporter": "python",
   "pygments_lexer": "ipython3",
   "version": "3.12.7"
  }
 },
 "nbformat": 4,
 "nbformat_minor": 5
}
